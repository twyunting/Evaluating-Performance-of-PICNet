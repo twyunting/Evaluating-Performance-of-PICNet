{
 "cells": [
  {
   "cell_type": "markdown",
   "metadata": {},
   "source": [
    "Run \"activate tensorflow-gpu\" on Annacoda command to open the notebook with gpu as a runtime\n"
   ]
  },
  {
   "cell_type": "code",
   "execution_count": 1,
   "metadata": {},
   "outputs": [
    {
     "data": {
      "text/plain": [
       "'C:\\\\Users\\\\Huong Doan\\\\Desktop\\\\Courses\\\\Academic courses\\\\2021_Spring\\\\CSC_676_Computer_Vision\\\\Final Project'"
      ]
     },
     "execution_count": 1,
     "metadata": {},
     "output_type": "execute_result"
    }
   ],
   "source": [
    "pwd"
   ]
  },
  {
   "cell_type": "code",
   "execution_count": 2,
   "metadata": {},
   "outputs": [
    {
     "name": "stdout",
     "output_type": "stream",
     "text": [
      "C:\\Users\\Huong Doan\\Desktop\\Courses\\Academic courses\\2021_Spring\\CSC_676_Computer_Vision\\Final Project\\Pluralistic-Inpainting-master\n"
     ]
    }
   ],
   "source": [
    "cd Pluralistic-Inpainting-master"
   ]
  },
  {
   "cell_type": "code",
   "execution_count": 3,
   "metadata": {},
   "outputs": [
    {
     "name": "stdout",
     "output_type": "stream",
     "text": [
      "Collecting visdom\n",
      "  Using cached visdom-0.1.8.9.tar.gz (676 kB)\n",
      "Collecting dominate\n",
      "  Using cached dominate-2.6.0-py2.py3-none-any.whl (29 kB)\n",
      "Requirement already satisfied: numpy>=1.8 in c:\\users\\huong doan\\.conda\\envs\\tensorflow-gpu\\lib\\site-packages (from visdom) (1.19.5)\n",
      "Collecting scipy\n",
      "  Downloading scipy-1.6.3-cp37-cp37m-win_amd64.whl (32.6 MB)\n",
      "Requirement already satisfied: requests in c:\\users\\huong doan\\.conda\\envs\\tensorflow-gpu\\lib\\site-packages (from visdom) (2.25.1)\n",
      "Requirement already satisfied: tornado in c:\\users\\huong doan\\.conda\\envs\\tensorflow-gpu\\lib\\site-packages (from visdom) (6.1)\n",
      "Requirement already satisfied: pyzmq in c:\\users\\huong doan\\.conda\\envs\\tensorflow-gpu\\lib\\site-packages (from visdom) (22.0.3)\n",
      "Requirement already satisfied: six in c:\\users\\huong doan\\.conda\\envs\\tensorflow-gpu\\lib\\site-packages (from visdom) (1.15.0)\n",
      "Collecting jsonpatch\n",
      "  Using cached jsonpatch-1.32-py2.py3-none-any.whl (12 kB)\n",
      "Collecting torchfile\n",
      "  Using cached torchfile-0.1.0.tar.gz (5.2 kB)\n",
      "Collecting websocket-client\n",
      "  Using cached websocket_client-0.58.0-py2.py3-none-any.whl (61 kB)\n",
      "Requirement already satisfied: pillow in c:\\users\\huong doan\\appdata\\roaming\\python\\python37\\site-packages (from visdom) (8.2.0)\n",
      "Collecting jsonpointer>=1.9\n",
      "  Using cached jsonpointer-2.1-py2.py3-none-any.whl (7.4 kB)\n",
      "Requirement already satisfied: idna<3,>=2.5 in c:\\users\\huong doan\\.conda\\envs\\tensorflow-gpu\\lib\\site-packages (from requests->visdom) (2.10)\n",
      "Requirement already satisfied: chardet<5,>=3.0.2 in c:\\users\\huong doan\\.conda\\envs\\tensorflow-gpu\\lib\\site-packages (from requests->visdom) (4.0.0)\n",
      "Requirement already satisfied: urllib3<1.27,>=1.21.1 in c:\\users\\huong doan\\.conda\\envs\\tensorflow-gpu\\lib\\site-packages (from requests->visdom) (1.26.4)\n",
      "Requirement already satisfied: certifi>=2017.4.17 in c:\\users\\huong doan\\.conda\\envs\\tensorflow-gpu\\lib\\site-packages (from requests->visdom) (2020.12.5)\n",
      "Building wheels for collected packages: visdom, torchfile\n",
      "  Building wheel for visdom (setup.py): started\n",
      "  Building wheel for visdom (setup.py): finished with status 'done'\n",
      "  Created wheel for visdom: filename=visdom-0.1.8.9-py3-none-any.whl size=655249 sha256=74868567cb1f030599974d62b2e08546abd477a8a7ca5bef79f3378e128ed4e8\n",
      "  Stored in directory: c:\\users\\huong doan\\appdata\\local\\pip\\cache\\wheels\\2d\\d1\\9b\\cde923274eac9cbb6ff0d8c7c72fe30a3da9095a38fd50bbf1\n",
      "  Building wheel for torchfile (setup.py): started\n",
      "  Building wheel for torchfile (setup.py): finished with status 'done'\n",
      "  Created wheel for torchfile: filename=torchfile-0.1.0-py3-none-any.whl size=5711 sha256=e32e24c1438601e31cec0746dbc84a39634ca2a0a706518b6af48858b1731bed\n",
      "  Stored in directory: c:\\users\\huong doan\\appdata\\local\\pip\\cache\\wheels\\ac\\5c\\3a\\a80e1c65880945c71fd833408cd1e9a8cb7e2f8f37620bb75b\n",
      "Successfully built visdom torchfile\n",
      "Installing collected packages: jsonpointer, websocket-client, torchfile, scipy, jsonpatch, visdom, dominate\n",
      "Successfully installed dominate-2.6.0 jsonpatch-1.32 jsonpointer-2.1 scipy-1.6.3 torchfile-0.1.0 visdom-0.1.8.9 websocket-client-0.58.0\n"
     ]
    }
   ],
   "source": [
    "# Install this if necessary \n",
    "!pip install visdom dominate"
   ]
  },
  {
   "cell_type": "code",
   "execution_count": 4,
   "metadata": {},
   "outputs": [
    {
     "name": "stdout",
     "output_type": "stream",
     "text": [
      "Collecting opencv-python\n",
      "  Using cached opencv_python-4.5.1.48-cp37-cp37m-win_amd64.whl (34.9 MB)\n",
      "Requirement already satisfied: numpy>=1.14.5 in c:\\users\\huong doan\\.conda\\envs\\tensorflow-gpu\\lib\\site-packages (from opencv-python) (1.19.5)\n",
      "Installing collected packages: opencv-python\n",
      "Successfully installed opencv-python-4.5.1.48\n"
     ]
    }
   ],
   "source": [
    "# Install this if necessary \n",
    "!pip install opencv-python"
   ]
  },
  {
   "cell_type": "code",
   "execution_count": null,
   "metadata": {},
   "outputs": [],
   "source": [
    "# ref: https://medium.com/rapids-ai/gpu-dashboards-in-jupyter-lab-757b17aae1d5\n",
    "#!jupyter labextension install jupyterlab-nvdashboard"
   ]
  },
  {
   "cell_type": "code",
   "execution_count": 7,
   "metadata": {},
   "outputs": [
    {
     "name": "stdout",
     "output_type": "stream",
     "text": [
      "Collecting matplotlib\n",
      "  Downloading matplotlib-3.4.1-cp37-cp37m-win_amd64.whl (7.1 MB)\n",
      "Collecting kiwisolver>=1.0.1\n",
      "  Downloading kiwisolver-1.3.1-cp37-cp37m-win_amd64.whl (51 kB)\n",
      "Requirement already satisfied: numpy>=1.16 in c:\\users\\huong doan\\.conda\\envs\\tensorflow-gpu\\lib\\site-packages (from matplotlib) (1.19.5)\n",
      "Requirement already satisfied: pillow>=6.2.0 in c:\\users\\huong doan\\appdata\\roaming\\python\\python37\\site-packages (from matplotlib) (8.2.0)\n",
      "Requirement already satisfied: python-dateutil>=2.7 in c:\\users\\huong doan\\.conda\\envs\\tensorflow-gpu\\lib\\site-packages (from matplotlib) (2.8.1)\n",
      "Requirement already satisfied: pyparsing>=2.2.1 in c:\\users\\huong doan\\.conda\\envs\\tensorflow-gpu\\lib\\site-packages (from matplotlib) (2.4.7)\n",
      "Collecting cycler>=0.10\n",
      "  Downloading cycler-0.10.0-py2.py3-none-any.whl (6.5 kB)\n",
      "Requirement already satisfied: six in c:\\users\\huong doan\\.conda\\envs\\tensorflow-gpu\\lib\\site-packages (from cycler>=0.10->matplotlib) (1.15.0)\n",
      "Installing collected packages: kiwisolver, cycler, matplotlib\n",
      "Successfully installed cycler-0.10.0 kiwisolver-1.3.1 matplotlib-3.4.1\n"
     ]
    }
   ],
   "source": [
    "# Install this if necessary \n",
    "!pip install matplotlib"
   ]
  },
  {
   "cell_type": "code",
   "execution_count": 9,
   "metadata": {},
   "outputs": [
    {
     "name": "stdout",
     "output_type": "stream",
     "text": [
      "Collecting torch\n",
      "  Downloading torch-1.8.1-cp37-cp37m-win_amd64.whl (190.5 MB)\n",
      "Requirement already satisfied: typing-extensions in c:\\users\\huong doan\\.conda\\envs\\tensorflow-gpu\\lib\\site-packages (from torch) (3.7.4.3)\n",
      "Requirement already satisfied: numpy in c:\\users\\huong doan\\.conda\\envs\\tensorflow-gpu\\lib\\site-packages (from torch) (1.19.5)\n",
      "Installing collected packages: torch\n",
      "Successfully installed torch-1.8.1\n"
     ]
    }
   ],
   "source": [
    "# Install this if necessary \n",
    "!pip install torch"
   ]
  },
  {
   "cell_type": "code",
   "execution_count": 12,
   "metadata": {},
   "outputs": [
    {
     "name": "stdout",
     "output_type": "stream",
     "text": [
      "Collecting keras\n",
      "  Using cached Keras-2.4.3-py2.py3-none-any.whl (36 kB)\n",
      "Collecting pyyaml\n",
      "  Downloading PyYAML-5.4.1-cp37-cp37m-win_amd64.whl (210 kB)\n",
      "Requirement already satisfied: scipy>=0.14 in c:\\users\\huong doan\\.conda\\envs\\tensorflow-gpu\\lib\\site-packages (from keras) (1.6.3)\n",
      "Requirement already satisfied: h5py in c:\\users\\huong doan\\.conda\\envs\\tensorflow-gpu\\lib\\site-packages (from keras) (2.10.0)\n",
      "Requirement already satisfied: numpy>=1.9.1 in c:\\users\\huong doan\\.conda\\envs\\tensorflow-gpu\\lib\\site-packages (from keras) (1.19.5)\n",
      "Requirement already satisfied: six in c:\\users\\huong doan\\.conda\\envs\\tensorflow-gpu\\lib\\site-packages (from h5py->keras) (1.15.0)\n",
      "Installing collected packages: pyyaml, keras\n",
      "Successfully installed keras-2.4.3 pyyaml-5.4.1\n"
     ]
    }
   ],
   "source": [
    "# Install this if necessary \n",
    "!pip install keras"
   ]
  },
  {
   "cell_type": "code",
   "execution_count": null,
   "metadata": {},
   "outputs": [],
   "source": []
  },
  {
   "cell_type": "code",
   "execution_count": 10,
   "metadata": {},
   "outputs": [
    {
     "name": "stdout",
     "output_type": "stream",
     "text": [
      "Is CUDA available?  False\n"
     ]
    }
   ],
   "source": [
    "import matplotlib.pyplot as plt\n",
    "import torch\n",
    "print(\"Is CUDA available? \",torch.cuda.is_available())"
   ]
  },
  {
   "cell_type": "code",
   "execution_count": 15,
   "metadata": {},
   "outputs": [
    {
     "name": "stdout",
     "output_type": "stream",
     "text": [
      "Collecting imageio\n",
      "  Downloading imageio-2.9.0-py3-none-any.whl (3.3 MB)\n",
      "Requirement already satisfied: pillow in c:\\users\\huong doan\\appdata\\roaming\\python\\python37\\site-packages (from imageio) (8.2.0)\n",
      "Requirement already satisfied: numpy in c:\\users\\huong doan\\.conda\\envs\\tensorflow-gpu\\lib\\site-packages (from imageio) (1.19.5)\n",
      "Installing collected packages: imageio\n",
      "Successfully installed imageio-2.9.0\n"
     ]
    }
   ],
   "source": [
    "# Install this if necessary \n",
    "!pip install imageio"
   ]
  },
  {
   "cell_type": "code",
   "execution_count": 17,
   "metadata": {},
   "outputs": [
    {
     "name": "stdout",
     "output_type": "stream",
     "text": [
      "Collecting torchvision\n",
      "  Downloading torchvision-0.9.1-cp37-cp37m-win_amd64.whl (852 kB)\n",
      "Requirement already satisfied: torch==1.8.1 in c:\\users\\huong doan\\.conda\\envs\\tensorflow-gpu\\lib\\site-packages (from torchvision) (1.8.1)\n",
      "Requirement already satisfied: pillow>=4.1.1 in c:\\users\\huong doan\\appdata\\roaming\\python\\python37\\site-packages (from torchvision) (8.2.0)\n",
      "Requirement already satisfied: numpy in c:\\users\\huong doan\\.conda\\envs\\tensorflow-gpu\\lib\\site-packages (from torchvision) (1.19.5)\n",
      "Requirement already satisfied: typing-extensions in c:\\users\\huong doan\\.conda\\envs\\tensorflow-gpu\\lib\\site-packages (from torch==1.8.1->torchvision) (3.7.4.3)\n",
      "Installing collected packages: torchvision\n",
      "Successfully installed torchvision-0.9.1\n"
     ]
    }
   ],
   "source": [
    "# Install this if necessary \n",
    "!pip install torchvision"
   ]
  },
  {
   "cell_type": "code",
   "execution_count": 20,
   "metadata": {},
   "outputs": [
    {
     "name": "stdout",
     "output_type": "stream",
     "text": [
      "WARNING:tensorflow:From c:\\users\\huong doan\\.conda\\envs\\tensorflow-gpu\\lib\\site-packages\\tensorflow\\python\\compat\\v2_compat.py:96: disable_resource_variables (from tensorflow.python.ops.variable_scope) is deprecated and will be removed in a future version.\n",
      "Instructions for updating:\n",
      "non-resource variables are not supported in the long term\n",
      "b'Hello,TensorFlow!'\n"
     ]
    }
   ],
   "source": [
    "import tensorflow as tf\n",
    "import tensorflow.compat.v1 as tf\n",
    "tf.disable_v2_behavior()\n",
    "hello=tf.constant('Hello,TensorFlow!')\n",
    "sess=tf.Session()\n",
    "print(sess.run(hello))"
   ]
  },
  {
   "cell_type": "code",
   "execution_count": 26,
   "metadata": {},
   "outputs": [
    {
     "name": "stdout",
     "output_type": "stream",
     "text": [
      "1.8.1+cpu\n",
      "0.9.1+cpu\n"
     ]
    }
   ],
   "source": [
    "import torch\n",
    "print (torch.__version__)\n",
    "import torchvision\n",
    "print (torchvision.__version__)"
   ]
  },
  {
   "cell_type": "code",
   "execution_count": null,
   "metadata": {},
   "outputs": [],
   "source": [
    "#https://github.com/junyanz/pytorch-CycleGAN-and-pix2pix/issues/360\n",
    "# for sovling gpu problem"
   ]
  },
  {
   "cell_type": "code",
   "execution_count": 48,
   "metadata": {
    "scrolled": true
   },
   "outputs": [
    {
     "name": "stdout",
     "output_type": "stream",
     "text": [
      "^C\n"
     ]
    }
   ],
   "source": [
    "#!python train.py --name artworks_VVG_resize_by_10 --img_file datasets/artworks_VVG_resize_by_10 --gpu_ids -1"
   ]
  },
  {
   "cell_type": "code",
   "execution_count": null,
   "metadata": {},
   "outputs": [],
   "source": [
    "# Original max_iteration: 5000000\n",
    "# Modified max_iteration:  100000"
   ]
  },
  {
   "cell_type": "markdown",
   "metadata": {},
   "source": [
    "**Error when running:**\n",
    "\n",
    "!python train.py --name PLACE2 --img_file ./datasets/place2\n",
    "\n",
    "\n",
    "**Please correct this error before running any codes below.**\n",
    "\n",
    "\n",
    "Error line:\n",
    "self.img = self.img.cuda(self.gpu_ids[0], **async=True**)   \n",
    "\n",
    "**SyntaxError**: invalid syntax => async=True\n",
    "\n",
    "**Solution**: change from \"async=True\" to \"non_blocking=True\" in line  68, 69 form the **Pluralistic/model/pluralistic_model.py** file\n",
    "\n",
    "\n",
    "Ref: https://stackoverflow.com/questions/53201534/calling-cuda-with-async-results-in-syntaxerror "
   ]
  },
  {
   "cell_type": "code",
   "execution_count": null,
   "metadata": {},
   "outputs": [],
   "source": [
    "!python train.py --name artworks_VVG_LLV_resize_by_4_train --img_file datasets/artworks_VVG_LLV_resize_by_4_train --gpu_ids -1"
   ]
  },
  {
   "cell_type": "code",
   "execution_count": null,
   "metadata": {},
   "outputs": [],
   "source": [
    "!python test.py --name artworks_VVG_resize_by_8_test --img_file datasets/artworks_VVG_resize_by_8_test --gpu_ids -1"
   ]
  },
  {
   "cell_type": "code",
   "execution_count": null,
   "metadata": {},
   "outputs": [],
   "source": []
  }
 ],
 "metadata": {
  "kernelspec": {
   "display_name": "Python 3",
   "language": "python",
   "name": "python3"
  },
  "language_info": {
   "codemirror_mode": {
    "name": "ipython",
    "version": 3
   },
   "file_extension": ".py",
   "mimetype": "text/x-python",
   "name": "python",
   "nbconvert_exporter": "python",
   "pygments_lexer": "ipython3",
   "version": "3.7.4"
  }
 },
 "nbformat": 4,
 "nbformat_minor": 2
}
